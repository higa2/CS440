{
 "cells": [
  {
   "cell_type": "markdown",
   "metadata": {},
   "source": [
    "# CS440 MP1"
   ]
  },
  {
   "cell_type": "code",
   "execution_count": 168,
   "metadata": {
    "collapsed": true
   },
   "outputs": [],
   "source": [
    "import urllib2\n",
    "from collections import deque"
   ]
  },
  {
   "cell_type": "markdown",
   "metadata": {},
   "source": [
    "## Maze Class and Maze Solver Class"
   ]
  },
  {
   "cell_type": "code",
   "execution_count": 169,
   "metadata": {
    "collapsed": false
   },
   "outputs": [],
   "source": [
    "class Maze:\n",
    "    '''\n",
    "    Creates a data structure to represent the maze problem.\n",
    "    '''\n",
    "    def __init__(self, txtFile):\n",
    "        i = 0 #row index\n",
    "        data = urllib2.urlopen(txtFile)\n",
    "        self.maze = []\n",
    "        self.goals = []\n",
    "        self.explored = []\n",
    "        for line in data:\n",
    "            j = 0 #column index\n",
    "            self.maze.append([])\n",
    "            for char in line:\n",
    "                #find goal state or goal states\n",
    "                if char == '.':\n",
    "                    self.goals.append((i,j))\n",
    "                #find initial state\n",
    "                elif char == 'P':\n",
    "                    self.initialState = (i,j)\n",
    "                if char == 'P' or char == '.' or char == '%' or char == ' ': \n",
    "                    self.maze[i].append(char)\n",
    "                    j+=1\n",
    "            i+=1\n",
    "        self.height = i\n",
    "        self.width = j\n",
    "        \n",
    "    def findChildren(self, node):\n",
    "        children = []\n",
    "        x = node[1]\n",
    "        y = node[0]\n",
    "        if x-1 >= 0:\n",
    "            if self.maze[y][x-1] != '%':\n",
    "                children.append((y,x-1))\n",
    "                \n",
    "        if y-1 >= 0:\n",
    "            if self.maze[y-1][x] != '%':\n",
    "                children.append((y-1,x))\n",
    "            \n",
    "        if x+1 < self.width:\n",
    "            if self.maze[y][x+1] != '%':\n",
    "                children.append((y,x+1))\n",
    "\n",
    "        if y+1 < self.height:\n",
    "            if self.maze[y+1][x] != '%':\n",
    "                children.append((y+1,x))\n",
    "        return children\n",
    "    \n",
    "    def printMazeWithPath(self, path):\n",
    "        for row in range(self.height):\n",
    "            for col in range(self.width):\n",
    "                if (row,col) in path:\n",
    "                    print \".\",\n",
    "                else:\n",
    "                    print self.maze[row][col],\n",
    "            print \" \"\n",
    "        \n",
    "\n",
    "class MazeSearch:\n",
    "    '''\n",
    "    Base class outlining functions that the inherited search classes should contain.\n",
    "    Should not be created or implemented.\n",
    "    '''\n",
    "    def __init__(self, maze):\n",
    "        raise NotImplementedError\n",
    "    \n",
    "    def pathFinder(self):\n",
    "        self.addNodeToFrontier(self.maze.initialState) \n",
    "        while not self.emptyFrontier() :\n",
    "            self.numNodesVisited+=1\n",
    "            node = self.chooseNodeFromFrontier()\n",
    "            if self.goalState(node): #goal state is reached\n",
    "                return self.backTrace(node)\n",
    "            for child in self.maze.findChildren(node):\n",
    "                if not self.duplicateDetection(child):\n",
    "                    self.addNodeToFrontier(child)\n",
    "                    self.parent[child[0]][child[1]] = node\n",
    "                    self.explored.append(node)\n",
    "        return -1\n",
    "    \n",
    "    def backTrace(self, node):\n",
    "        path = []\n",
    "        curNode = node\n",
    "        while curNode != self.maze.initialState:\n",
    "            path.append(curNode)\n",
    "            parent = self.parent[curNode[0]][curNode[1]]\n",
    "            curNode = parent\n",
    "        return path\n",
    "    \n",
    "    def duplicateDetection(self, node):\n",
    "        '''\n",
    "        Implement strategy for detecting duplicate states.\n",
    "        '''\n",
    "        raise NotImplementedError\n",
    "    \n",
    "    def addNodeToFrontier(self, node):\n",
    "        '''\n",
    "        Adds node to the frontier. The data structure representing a frontier might differ\n",
    "        for different search strategies.\n",
    "        input: void\n",
    "        return: void\n",
    "        '''\n",
    "        raise NotImplementedError\n",
    "        \n",
    "    def chooseNodeFromFrontier(self):\n",
    "        raise NotImplementedError\n",
    "        \n",
    "    def emptyFrontier(self):\n",
    "        raise NotImplementedError\n",
    "        \n",
    "    def goalState(self, node):\n",
    "        raise NotImplementedError"
   ]
  },
  {
   "cell_type": "markdown",
   "metadata": {},
   "source": [
    "##Depth First Search "
   ]
  },
  {
   "cell_type": "code",
   "execution_count": 167,
   "metadata": {
    "collapsed": false
   },
   "outputs": [],
   "source": [
    "class DFSMazeSearch(MazeSearch):\n",
    "    def __init__(self, maze):\n",
    "        self.frontier = []\n",
    "        self.maze = maze\n",
    "        self.parent = [[(0,0) for j in range(maze.width)] for i in range(maze.height)]\n",
    "        self.numNodesVisited = 0\n",
    "        self.explored = []\n",
    "    \n",
    "    def duplicateDetection(self, node):\n",
    "        if node in self.explored:\n",
    "            return True\n",
    "        #if node in self.frontier:\n",
    "        \n",
    "    def addNodeToFrontier(self, node):\n",
    "        self.frontier.append(node)\n",
    "        \n",
    "    def chooseNodeFromFrontier(self):\n",
    "        return self.frontier.pop()\n",
    "    \n",
    "    def emptyFrontier(self):\n",
    "        return not self.frontier\n",
    "    \n",
    "    def goalState(self, node):\n",
    "        return node in self.maze.goals"
   ]
  },
  {
   "cell_type": "code",
   "execution_count": 171,
   "metadata": {
    "collapsed": false
   },
   "outputs": [
    {
     "name": "stdout",
     "output_type": "stream",
     "text": [
      "% % % % % % % % % % % % % % % % % % % % % % %  \n",
      "% . %       %       %       %       %   %   %  \n",
      "% .     %       % %   %   % % % %   % %     %  \n",
      "% . %       %   %   %   %               %   %  \n",
      "% . % %   % % %           % %   % %   % % % %  \n",
      "% . %   %       %   %   %   %   %           %  \n",
      "% . % % %   %   % % %     %         % %   % %  \n",
      "% . %   %     . . .     %   %   % . . . %   %  \n",
      "% . . .     % . % . % % %       % . % .     %  \n",
      "%   % . %   % .   . . . %   %   % .   . %   %  \n",
      "%     . % % % . % % % . %   % . . . % . % % %  \n",
      "%   % . . . . . %   % . . . . . % . . .     %  \n",
      "% %   %   % %         % % % %   % . % %   % %  \n",
      "%   %   %       %   %   . . . . . .     %   %  \n",
      "%       % %   % %   % % . % % % %   % %     %  \n",
      "%   %   %           % . .       %   %   %   %  \n",
      "% % % %   % %   % %   . % %   %       %   % %  \n",
      "%   %   %           % . .   %   %   %   %   %  \n",
      "%   % %   %   % % % % % . %       . . .     %  \n",
      "%   %               %   . . %   % . % . %   %  \n",
      "%       % %   % %   % % % . % . . . % . % % %  \n",
      "%   %   %       %         . . . %   % . . P %  \n",
      "% % % % % % % % % % % % % % % % % % % % % % %  \n"
     ]
    }
   ],
   "source": [
    "medMaze = Maze(\"http://slazebni.cs.illinois.edu/fall15/assignment1/mediumMaze.txt\")\n",
    "DFS = DFSMazeSearch(medMaze)\n",
    "path = DFS.pathFinder()\n",
    "medMaze.printMazeWithPath(path)"
   ]
  },
  {
   "cell_type": "markdown",
   "metadata": {},
   "source": [
    "##Breadth First Search"
   ]
  },
  {
   "cell_type": "code",
   "execution_count": 165,
   "metadata": {
    "collapsed": true
   },
   "outputs": [],
   "source": [
    "class BFSMazeSearch(MazeSearch):\n",
    "    def __init__(self, maze):\n",
    "        self.frontier = deque([])\n",
    "        self.maze = maze\n",
    "        self.parent = [[(0,0) for j in range(maze.width)] for i in range(maze.height)]\n",
    "        self.numNodesVisited = 0\n",
    "        self.explored = []\n",
    "    \n",
    "    def duplicateDetection(self, node):\n",
    "        if node in self.explored:\n",
    "            return True\n",
    "        if node in self.frontier:\n",
    "            return True\n",
    "        \n",
    "    def addNodeToFrontier(self, node):\n",
    "        self.frontier.append(node)\n",
    "        \n",
    "    def chooseNodeFromFrontier(self):\n",
    "        return self.frontier.popleft()\n",
    "    \n",
    "    def emptyFrontier(self):\n",
    "        return not self.frontier\n",
    "    \n",
    "    def goalState(self, node):\n",
    "        return node in self.maze.goals"
   ]
  },
  {
   "cell_type": "code",
   "execution_count": 166,
   "metadata": {
    "collapsed": false
   },
   "outputs": [
    {
     "name": "stdout",
     "output_type": "stream",
     "text": [
      "% % % % % % % % % % % % % % % % % % % % % % %  \n",
      "% . %       %       %       %       %   %   %  \n",
      "% .     %       % %   %   % % % %   % %     %  \n",
      "% . %       %   %   %   %               %   %  \n",
      "% . % %   % % %           % %   % %   % % % %  \n",
      "% . %   %       %   %   %   %   %           %  \n",
      "% . % % %   %   % % %     %         % %   % %  \n",
      "% . %   % . . .         %   %   %       %   %  \n",
      "% . . . . . % . %   % % %       %   %       %  \n",
      "%   %   %   % . . . . . %   %   %       %   %  \n",
      "%       % % %   % % % . %   %       %   % % %  \n",
      "%   %           %   % . . . . . %           %  \n",
      "% %   %   % %         % % % % . %   % %   % %  \n",
      "%   %   %       %   %         . . .     %   %  \n",
      "%       % %   % %   % %   % % % % . % %     %  \n",
      "%   %   %           %           % . %   %   %  \n",
      "% % % %   % %   % %     % %   %   .   %   % %  \n",
      "%   %   %           %       %   % . %   %   %  \n",
      "%   % %   %   % % % % %   %       . . .     %  \n",
      "%   %               %       %   %   % . %   %  \n",
      "%       % %   % %   % % %   %       % . % % %  \n",
      "%   %   %       %               %   % . . P %  \n",
      "% % % % % % % % % % % % % % % % % % % % % % %  \n"
     ]
    }
   ],
   "source": [
    "medMaze = Maze(\"http://slazebni.cs.illinois.edu/fall15/assignment1/mediumMaze.txt\")\n",
    "BFS = BFSMazeSearch(medMaze)\n",
    "path = BFS.pathFinder()\n",
    "medMaze.printMazeWithPath(path)"
   ]
  },
  {
   "cell_type": "code",
   "execution_count": null,
   "metadata": {
    "collapsed": true
   },
   "outputs": [],
   "source": [
    "class GBFSMazeSearch(MazeSearch):\n",
    "    def __init__(self, maze):\n",
    "        self.frontier = deque([])\n",
    "        self.maze = maze\n",
    "        self.parent = [[(0,0) for j in range(maze.width)] for i in range(maze.height)]\n",
    "        self.numNodesVisited = 0\n",
    "        self.explored = []\n",
    "    \n",
    "    def duplicateDetection(self, node):\n",
    "        if node in self.explored:\n",
    "            return True\n",
    "        if node in self.frontier:\n",
    "            return True\n",
    "        \n",
    "    def addNodeToFrontier(self, node):\n",
    "        self.frontier.append(node)\n",
    "        \n",
    "    def chooseNodeFromFrontier(self):\n",
    "        return self.frontier.popleft()\n",
    "    \n",
    "    def emptyFrontier(self):\n",
    "        return not self.frontier\n",
    "    \n",
    "    def goalState(self, node):\n",
    "        return node in self.maze.goals"
   ]
  }
 ],
 "metadata": {
  "kernelspec": {
   "display_name": "Python 2",
   "language": "python",
   "name": "python2"
  },
  "language_info": {
   "codemirror_mode": {
    "name": "ipython",
    "version": 2
   },
   "file_extension": ".py",
   "mimetype": "text/x-python",
   "name": "python",
   "nbconvert_exporter": "python",
   "pygments_lexer": "ipython2",
   "version": "2.7.6"
  }
 },
 "nbformat": 4,
 "nbformat_minor": 0
}
