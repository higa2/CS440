{
 "cells": [
  {
   "cell_type": "code",
   "execution_count": 22,
   "metadata": {
    "collapsed": true
   },
   "outputs": [],
   "source": [
    "# CS440 MP1 Part 1.1"
   ]
  },
  {
   "cell_type": "code",
   "execution_count": 23,
   "metadata": {
    "collapsed": false
   },
   "outputs": [],
   "source": [
    "from collections import deque\n",
    "import Queue\n",
    "from Maze import *\n",
    "from MazeSearch import *"
   ]
  },
  {
   "cell_type": "markdown",
   "metadata": {},
   "source": [
    "##Depth First Search "
   ]
  },
  {
   "cell_type": "code",
   "execution_count": 24,
   "metadata": {
    "collapsed": false
   },
   "outputs": [],
   "source": [
    "class DFSMazeSearch(MazeSearch):\n",
    "    def __init__(self, maze):\n",
    "        self.frontier = [] #list is used as a stack\n",
    "        self.pathCosts = []\n",
    "        self.paths  = []\n",
    "        self.parent = [[(0,0) for j in range(maze.width)] for i in range(maze.height)]\n",
    "        self.maze = maze\n",
    "        self.numNodesVisited = 0\n",
    "        self.explored = []\n",
    "    \n",
    "    def duplicateDetection(self, node, pathCost):\n",
    "        if node in self.explored: #do not add node to the list if it has already been explored.\n",
    "            return True\n",
    "        \n",
    "        if node in self.frontier:\n",
    "            otherindex = self.frontier.index(node)\n",
    "            otherPathCost = self.pathCosts[otherindex]\n",
    "            if otherPathCost <= pathCost: #if the node in the list has the lower path cost keep it\n",
    "                return True\n",
    "            else: #else delete the duplicate node in the list. \n",
    "                del self.frontier[otherindex]\n",
    "                del self.pathCosts[otherindex]\n",
    "                return False\n",
    "        return False\n",
    "                \n",
    "        \n",
    "    def addNodeToFrontier(self, node, pathCost, path = ()):\n",
    "        self.frontier.append(node)\n",
    "        self.pathCosts.append(pathCost)\n",
    "        self.paths.append(path)\n",
    "        \n",
    "    def chooseNodeFromFrontier(self):\n",
    "        return self.frontier.pop(), self.pathCosts.pop(), self.paths.pop() \n",
    "    \n",
    "    def emptyFrontier(self):\n",
    "        return not self.frontier\n",
    "    \n",
    "    def goalState(self, node):\n",
    "        return node == self.maze.goal"
   ]
  },
  {
   "cell_type": "code",
   "execution_count": 25,
   "metadata": {
    "collapsed": false
   },
   "outputs": [
    {
     "ename": "NameError",
     "evalue": "global name 'ghostState' is not defined",
     "output_type": "error",
     "traceback": [
      "\u001b[1;31m---------------------------------------------------------------------------\u001b[0m",
      "\u001b[1;31mNameError\u001b[0m                                 Traceback (most recent call last)",
      "\u001b[1;32m<ipython-input-25-b0fbbd69c075>\u001b[0m in \u001b[0;36m<module>\u001b[1;34m()\u001b[0m\n\u001b[0;32m      5\u001b[0m \u001b[1;33m\u001b[0m\u001b[0m\n\u001b[0;32m      6\u001b[0m \u001b[1;31m#Run before running the tests\u001b[0m\u001b[1;33m\u001b[0m\u001b[1;33m\u001b[0m\u001b[0m\n\u001b[1;32m----> 7\u001b[1;33m \u001b[0mmedMaze\u001b[0m \u001b[1;33m=\u001b[0m \u001b[0mMaze\u001b[0m\u001b[1;33m(\u001b[0m\u001b[1;34m\"http://slazebni.cs.illinois.edu/fall15/assignment1/mediumMaze.txt\"\u001b[0m\u001b[1;33m)\u001b[0m\u001b[1;33m\u001b[0m\u001b[0m\n\u001b[0m\u001b[0;32m      8\u001b[0m \u001b[0mbigMaze\u001b[0m \u001b[1;33m=\u001b[0m \u001b[0mMaze\u001b[0m\u001b[1;33m(\u001b[0m\u001b[1;34m\"http://slazebni.cs.illinois.edu/fall15/assignment1/bigMaze.txt\"\u001b[0m\u001b[1;33m)\u001b[0m\u001b[1;33m\u001b[0m\u001b[0m\n\u001b[0;32m      9\u001b[0m \u001b[0mopenMaze\u001b[0m \u001b[1;33m=\u001b[0m \u001b[0mMaze\u001b[0m\u001b[1;33m(\u001b[0m\u001b[1;34m\"http://slazebni.cs.illinois.edu/fall15/assignment1/openMaze.txt\"\u001b[0m\u001b[1;33m)\u001b[0m\u001b[1;33m\u001b[0m\u001b[0m\n",
      "\u001b[1;32mC:\\Users\\James\\Desktop\\CS440\\Maze.py\u001b[0m in \u001b[0;36m__init__\u001b[1;34m(self, txtFile)\u001b[0m\n\u001b[0;32m     41\u001b[0m         \u001b[0mReturns\u001b[0m\u001b[1;33m:\u001b[0m \u001b[0mList\u001b[0m \u001b[0mof\u001b[0m \u001b[0mchildren\u001b[0m\u001b[1;33m\u001b[0m\u001b[0m\n\u001b[0;32m     42\u001b[0m         '''\n\u001b[1;32m---> 43\u001b[1;33m         \u001b[0mchildren\u001b[0m \u001b[1;33m=\u001b[0m \u001b[1;33m[\u001b[0m\u001b[1;33m]\u001b[0m\u001b[1;33m\u001b[0m\u001b[0m\n\u001b[0m\u001b[0;32m     44\u001b[0m         \u001b[0mx\u001b[0m \u001b[1;33m=\u001b[0m \u001b[0mnode\u001b[0m\u001b[1;33m[\u001b[0m\u001b[1;36m1\u001b[0m\u001b[1;33m]\u001b[0m\u001b[1;33m\u001b[0m\u001b[0m\n\u001b[0;32m     45\u001b[0m         \u001b[0my\u001b[0m \u001b[1;33m=\u001b[0m \u001b[0mnode\u001b[0m\u001b[1;33m[\u001b[0m\u001b[1;36m0\u001b[0m\u001b[1;33m]\u001b[0m\u001b[1;33m\u001b[0m\u001b[0m\n",
      "\u001b[1;31mNameError\u001b[0m: global name 'ghostState' is not defined"
     ]
    }
   ],
   "source": [
    "'''\n",
    "To access the 2d array of elements just call:\n",
    "medMaze.maze, bigMaze.maze, or openMaze.maze.\n",
    "'''\n",
    "\n",
    "#Run before running the tests\n",
    "medMaze = Maze(\"http://slazebni.cs.illinois.edu/fall15/assignment1/mediumMaze.txt\")\n",
    "bigMaze = Maze(\"http://slazebni.cs.illinois.edu/fall15/assignment1/bigMaze.txt\")\n",
    "openMaze = Maze(\"http://slazebni.cs.illinois.edu/fall15/assignment1/openMaze.txt\")\n",
    "\n",
    "DFS = DFSMazeSearch(medMaze)\n",
    "path, pathCost = DFS.pathFinder()\n",
    "medMaze.changeMazeWithPath(path)\n",
    "medMaze.printMaze() \n",
    "print \"Nodes Visited: \", DFS.nodesVisited()\n",
    "print \"Path Cost\", pathCost\n",
    "\n",
    "DFS = DFSMazeSearch(bigMaze)\n",
    "path, pathCost = DFS.pathFinder()\n",
    "bigMaze.changeMazeWithPath(path)\n",
    "bigMaze.printMaze()\n",
    "print \"Nodes Visited: \", DFS.nodesVisited()\n",
    "print \"Path Cost\", pathCost\n",
    "\n",
    "DFS = DFSMazeSearch(openMaze)\n",
    "path, pathCost = DFS.pathFinder()\n",
    "openMaze.changeMazeWithPath(path)\n",
    "openMaze.printMaze()\n",
    "print \"Nodes Visited: \", DFS.nodesVisited()\n",
    "print \"Path Cost\", pathCost"
   ]
  },
  {
   "cell_type": "markdown",
   "metadata": {},
   "source": [
    "##Breadth First Search"
   ]
  },
  {
   "cell_type": "code",
   "execution_count": null,
   "metadata": {
    "collapsed": true
   },
   "outputs": [],
   "source": [
    "class BFSMazeSearch(MazeSearch):\n",
    "    def __init__(self, maze):\n",
    "        self.frontier = deque([])\n",
    "        self.pathCosts = deque([])\n",
    "        self.paths = deque([])\n",
    "        self.maze = maze\n",
    "        self.parent = [[(0,0) for j in range(maze.width)] for i in range(maze.height)]\n",
    "        self.numNodesVisited = 0\n",
    "        self.explored = []\n",
    "    \n",
    "    def duplicateDetection(self, node, pathCost):\n",
    "        if node in self.explored:\n",
    "            return True\n",
    "        if node in self.frontier: #the first node added to the queue is the one with the lower path cost\n",
    "            return True\n",
    "        return False\n",
    "        \n",
    "    def addNodeToFrontier(self, node, pathCost, path = ()):\n",
    "        self.frontier.append(node)\n",
    "        self.pathCosts.append(pathCost)\n",
    "        self.paths.append(path)\n",
    "        \n",
    "    def chooseNodeFromFrontier(self):\n",
    "        return self.frontier.popleft(), self.pathCosts.popleft(), self.paths.popleft()\n",
    "    \n",
    "    def emptyFrontier(self):\n",
    "        return not self.frontier\n",
    "    \n",
    "    def goalState(self, node):\n",
    "        return node == self.maze.goal"
   ]
  },
  {
   "cell_type": "code",
   "execution_count": null,
   "metadata": {
    "collapsed": false
   },
   "outputs": [],
   "source": [
    "#Run before running the tests\n",
    "medMaze = Maze(\"http://slazebni.cs.illinois.edu/fall15/assignment1/mediumMaze.txt\")\n",
    "bigMaze = Maze(\"http://slazebni.cs.illinois.edu/fall15/assignment1/bigMaze.txt\")\n",
    "openMaze = Maze(\"http://slazebni.cs.illinois.edu/fall15/assignment1/openMaze.txt\")\n",
    "\n",
    "BFS = BFSMazeSearch(medMaze)\n",
    "path, pathCost = BFS.pathFinder()\n",
    "medMaze.changeMazeWithPath(path)\n",
    "medMaze.printMaze()\n",
    "print \"Nodes Visisted: \", BFS.nodesVisited()\n",
    "print \"Path Cost\", pathCost\n",
    "\n",
    "BFS = BFSMazeSearch(bigMaze)\n",
    "path, pathCost = BFS.pathFinder()\n",
    "bigMaze.changeMazeWithPath(path)\n",
    "bigMaze.printMaze()\n",
    "print \"Nodes Visisted: \", BFS.nodesVisited()\n",
    "print \"Path Cost\", pathCost\n",
    "\n",
    "BFS = BFSMazeSearch(openMaze)\n",
    "path, pathCost = BFS.pathFinder()\n",
    "openMaze.changeMazeWithPath(path)\n",
    "openMaze.printMaze()\n",
    "print \"Nodes Visisted: \", BFS.nodesVisited()\n",
    "print \"Path Cost\", pathCost"
   ]
  },
  {
   "cell_type": "markdown",
   "metadata": {},
   "source": [
    "##Greedy Best First Search "
   ]
  },
  {
   "cell_type": "code",
   "execution_count": null,
   "metadata": {
    "collapsed": false
   },
   "outputs": [],
   "source": [
    "class GBFSMazeSearch(MazeSearch):\n",
    "    def __init__(self, maze):\n",
    "        self.frontier = {} #dictionary where keys are costs and values are a list of node positions\n",
    "        self.pathCosts = {} #dictionary where keys are costs and values are a list of path costs\n",
    "        self.paths = {} #dictionary where keys are costs and values are a list of paths\n",
    "        self.costs = Queue.PriorityQueue() #priority queue for cost keys \n",
    "        self.maze = maze\n",
    "        self.parent = [[(0,0) for j in range(maze.width)] for i in range(maze.height)]\n",
    "        self.numNodesVisited = 0\n",
    "        self.explored = []\n",
    "    \n",
    "    def duplicateDetection(self, node, pathCost):\n",
    "        if node in self.explored:\n",
    "            return True\n",
    "        \n",
    "        newKey = pathCost + self.heuristic(node)\n",
    "        \n",
    "        #computationally expensive! \n",
    "        for key in self.frontier:\n",
    "            if node in self.frontier[key]:\n",
    "                if key > newKey:\n",
    "                    return False\n",
    "                else:\n",
    "                    return True\n",
    "        return False\n",
    "    \n",
    "    def heuristic(self, node):\n",
    "        goal = self.maze.goal\n",
    "        return abs(node[0]-goal[0])+abs(node[1]-goal[1])\n",
    "        \n",
    "    def addNodeToFrontier(self, node, pathCost, path = ()):\n",
    "        #key is the manhattan distance\n",
    "        key = self.heuristic(node)\n",
    "        \n",
    "        #since python dictionaries do not allow for repeated values, the dictionary values are lists of nodes.\n",
    "        if not key in self.frontier:\n",
    "            self.frontier[key] = []\n",
    "            self.pathCosts[key] = []\n",
    "            self.paths[key] = []\n",
    "            \n",
    "        #add node, path cost, and cost function information\n",
    "        self.frontier[key].append(node)\n",
    "        self.pathCosts[key].append(pathCost)\n",
    "        self.paths[key].append(path)\n",
    "        self.costs.put(key)\n",
    "            \n",
    "    def chooseNodeFromFrontier(self):\n",
    "        key = self.costs.get()\n",
    "        node, pathCost, path = self.frontier[key].pop(), self.pathCosts[key].pop(), self.paths[key].pop()\n",
    "        if not self.frontier[key]:\n",
    "            del self.frontier[key]\n",
    "            del self.pathCosts[key]\n",
    "            del self.paths[key]\n",
    "        return node, pathCost, path\n",
    "    \n",
    "    def emptyFrontier(self):\n",
    "        return not self.frontier\n",
    "    \n",
    "    def goalState(self, node):\n",
    "        return node == self.maze.goal"
   ]
  },
  {
   "cell_type": "code",
   "execution_count": null,
   "metadata": {
    "collapsed": false
   },
   "outputs": [],
   "source": [
    "#Run before running the tests\n",
    "medMaze = Maze(\"http://slazebni.cs.illinois.edu/fall15/assignment1/mediumMaze.txt\")\n",
    "bigMaze = Maze(\"http://slazebni.cs.illinois.edu/fall15/assignment1/bigMaze.txt\")\n",
    "openMaze = Maze(\"http://slazebni.cs.illinois.edu/fall15/assignment1/openMaze.txt\")\n",
    "\n",
    "GBFS = GBFSMazeSearch(medMaze)\n",
    "path, pathCost = GBFS.pathFinder()\n",
    "medMaze.changeMazeWithPath(path)\n",
    "medMaze.printMaze()\n",
    "print \"Nodes Visited: \", GBFS.nodesVisited()\n",
    "print \"Path Cost\", pathCost\n",
    "\n",
    "GBFS = GBFSMazeSearch(bigMaze)\n",
    "path, pathCost = GBFS.pathFinder()\n",
    "bigMaze.changeMazeWithPath(path)\n",
    "bigMaze.printMaze()\n",
    "print \"Nodes Visited: \", GBFS.nodesVisited()\n",
    "print \"Path Cost\", pathCost\n",
    "\n",
    "GBFS = GBFSMazeSearch(openMaze)\n",
    "path, pathCost = GBFS.pathFinder()\n",
    "openMaze.changeMazeWithPath(path)\n",
    "openMaze.printMaze()\n",
    "print \"Nodes Visited: \", GBFS.nodesVisited()\n",
    "print \"Path Cost\", pathCost"
   ]
  },
  {
   "cell_type": "markdown",
   "metadata": {
    "collapsed": true
   },
   "source": [
    "##A* Search"
   ]
  },
  {
   "cell_type": "code",
   "execution_count": null,
   "metadata": {
    "collapsed": false
   },
   "outputs": [],
   "source": [
    "class AStarSearch(MazeSearch):\n",
    "    def __init__(self, maze):\n",
    "        self.frontier = {} #dictionary where keys are costs and values are a list of node positions\n",
    "        self.pathCosts = {} #dictionary where keys are costs and values are a list of path costs with key\n",
    "        self.paths = {} #dictionary where keys are costs and values are a list of paths\n",
    "        self.costs = Queue.PriorityQueue() #priority queue for cost keys \n",
    "        self.maze = maze\n",
    "        self.parent = [[(0,0) for j in range(maze.width)] for i in range(maze.height)]\n",
    "        self.numNodesVisited = 0\n",
    "        self.explored = []\n",
    "    \n",
    "    def duplicateDetection(self, node, pathCost):\n",
    "        if node in self.explored:\n",
    "            return True\n",
    "        \n",
    "        newKey = pathCost + self.heuristic(node)\n",
    "        \n",
    "        #computationally expensive! \n",
    "        for key in self.frontier:\n",
    "            if node in self.frontier[key]:\n",
    "                if key > newKey:\n",
    "                    return False\n",
    "                else:\n",
    "                    return True\n",
    "        return False\n",
    "        \n",
    "    def addNodeToFrontier(self, node, pathCost, path = ()):\n",
    "        #key is the manhattan distance heuristic + the path cost\n",
    "        key = pathCost + self.heuristic(node)\n",
    "        \n",
    "        #since python dictionaries do not allow for repeated values, the dictionary values are lists of nodes.\n",
    "        if not key in self.frontier:\n",
    "            self.frontier[key] = []\n",
    "            self.pathCosts[key] = []\n",
    "            self.paths[key] = []\n",
    "            \n",
    "        #add node, path cost, and cost function information\n",
    "        self.frontier[key].append(node)\n",
    "        self.pathCosts[key].append(pathCost)\n",
    "        self.paths[key].append(path)\n",
    "        self.costs.put(key)\n",
    "            \n",
    "    def chooseNodeFromFrontier(self):\n",
    "        key = self.costs.get()\n",
    "        node, pathCost, path = self.frontier[key].pop(), self.pathCosts[key].pop(), self.paths[key].pop()\n",
    "        if not self.frontier[key]:\n",
    "            del self.frontier[key]\n",
    "            del self.pathCosts[key]\n",
    "            del self.paths[key]\n",
    "        return node, pathCost, path\n",
    "    \n",
    "    def emptyFrontier(self):\n",
    "        return not self.frontier\n",
    "    \n",
    "    def goalState(self, node):\n",
    "        return node == self.maze.goal\n",
    "    \n",
    "    def heuristic(self, node):\n",
    "        return abs(node[0]-self.maze.goal[0])+abs(node[1]-self.maze.goal[1])"
   ]
  },
  {
   "cell_type": "code",
   "execution_count": null,
   "metadata": {
    "collapsed": false
   },
   "outputs": [],
   "source": [
    "medMaze = Maze(\"http://slazebni.cs.illinois.edu/fall15/assignment1/mediumMaze.txt\")\n",
    "bigMaze = Maze(\"http://slazebni.cs.illinois.edu/fall15/assignment1/bigMaze.txt\")\n",
    "openMaze = Maze(\"http://slazebni.cs.illinois.edu/fall15/assignment1/openMaze.txt\")\n",
    "\n",
    "AStar = AStarSearch(medMaze)\n",
    "path, pathCost = AStar.pathFinder()\n",
    "medMaze.changeMazeWithPath(path)\n",
    "medMaze.printMaze()\n",
    "print \"Nodes Visited: \", AStar.nodesVisited()\n",
    "print \"Path Cost\", pathCost\n",
    "\n",
    "AStar = AStarSearch(bigMaze)\n",
    "path, pathCost = AStar.pathFinder()\n",
    "bigMaze.changeMazeWithPath(path)\n",
    "bigMaze.printMaze()\n",
    "print \"Nodes Visited: \", AStar.nodesVisited()\n",
    "print \"Path Cost\", pathCost\n",
    "\n",
    "AStar = AStarSearch(openMaze)\n",
    "path, pathCost = AStar.pathFinder()\n",
    "openMaze.changeMazeWithPath(path)\n",
    "openMaze.printMaze()\n",
    "print \"Nodes Visited: \", AStar.nodesVisited()\n",
    "print \"Path Cost\", pathCost"
   ]
  },
  {
   "cell_type": "code",
   "execution_count": null,
   "metadata": {
    "collapsed": true
   },
   "outputs": [],
   "source": []
  }
 ],
 "metadata": {
  "kernelspec": {
   "display_name": "Python 2",
   "language": "python",
   "name": "python2"
  },
  "language_info": {
   "codemirror_mode": {
    "name": "ipython",
    "version": 2
   },
   "file_extension": ".py",
   "mimetype": "text/x-python",
   "name": "python",
   "nbconvert_exporter": "python",
   "pygments_lexer": "ipython2",
   "version": "2.7.10"
  }
 },
 "nbformat": 4,
 "nbformat_minor": 0
}
