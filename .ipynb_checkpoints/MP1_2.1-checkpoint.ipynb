{
 "cells": [
  {
   "cell_type": "code",
   "execution_count": 1,
   "metadata": {
    "collapsed": false
   },
   "outputs": [],
   "source": [
    "from Maze import*\n",
    "from MazeSearch import*\n",
    "import Queue"
   ]
  },
  {
   "cell_type": "markdown",
   "metadata": {},
   "source": [
    "##Multi-Dot Search"
   ]
  },
  {
   "cell_type": "code",
   "execution_count": 2,
   "metadata": {
    "collapsed": false
   },
   "outputs": [],
   "source": [
    "class AStarSearchWithMultiDots(MazeSearchWithMultiDots):\n",
    "    '''\n",
    "    A* Search With Multiple Dots\n",
    "    '''\n",
    "    def __init__(self, maze):\n",
    "        '''\n",
    "        Input: maze must be a maze with multiple dots.\n",
    "        '''\n",
    "        self.frontier = {} #dictionary where keys are costs and values are a list of node positions\n",
    "        self.pathCosts = {} #dictionary where keys are costs and values are a list of path costs with key\n",
    "        self.costs = Queue.PriorityQueue() #priority queue for cost keys \n",
    "        self.maze = maze\n",
    "        self.goals = self.maze.goals[:]\n",
    "        self.parent=[[[(0,0,0) for j in range(len(maze.goals)+1)] for i in range(maze.width)]for k in range(maze.height)]\n",
    "        self.numNodesVisited = 0\n",
    "        self.explored = []\n",
    "    \n",
    "    def duplicateDetection(self, node, pathCost):\n",
    "        if node in self.explored:\n",
    "            return True\n",
    "        \n",
    "        newKey = pathCost + self.heuristic(node)\n",
    "        \n",
    "        #computationally expensive! \n",
    "        for key in self.frontier:\n",
    "            if node in self.frontier[key]:\n",
    "                if key > newKey:\n",
    "                    return False\n",
    "                else:\n",
    "                    return True\n",
    "        return False\n",
    "        \n",
    "    def addNodeToFrontier(self, node, pathCost):\n",
    "        #key is the heuristic + the path cost\n",
    "        key = pathCost + self.heuristic(node)\n",
    "        \n",
    "        #since python dictionaries do not allow for repeated values, the dictionary values are lists of nodes.\n",
    "        if not key in self.frontier:\n",
    "            self.frontier[key] = []\n",
    "            self.pathCosts[key] = []\n",
    "            \n",
    "        #add node, path cost, and cost function information\n",
    "        self.frontier[key].append(node)\n",
    "        self.pathCosts[key].append(pathCost)\n",
    "        self.costs.put(key)\n",
    "            \n",
    "    def chooseNodeFromFrontier(self):\n",
    "        key = self.costs.get()\n",
    "        node, pathCost = self.frontier[key].pop(), self.pathCosts[key].pop()\n",
    "        if not self.frontier[key]:\n",
    "            del self.frontier[key]\n",
    "            del self.pathCosts[key]\n",
    "        return node, pathCost\n",
    "    \n",
    "    def emptyFrontier(self):\n",
    "        return not self.frontier\n",
    "    \n",
    "    def goalState(self, node):\n",
    "        return not self.goals\n",
    "    \n",
    "    def heuristic(self, node):\n",
    "        return node[2]"
   ]
  },
  {
   "cell_type": "code",
   "execution_count": 3,
   "metadata": {
    "collapsed": false
   },
   "outputs": [],
   "source": [
    "tinyMaze = MazeWithMultiDots(\"http://slazebni.cs.illinois.edu/fall15/assignment1/tinySearch.txt\")\n",
    "smallMaze = MazeWithMultiDots(\"http://slazebni.cs.illinois.edu/fall15/assignment1/smallSearch.txt\")\n",
    "mediumMaze = MazeWithMultiDots(\"http://slazebni.cs.illinois.edu/fall15/assignment1/mediumSearch.txt\")"
   ]
  },
  {
   "cell_type": "code",
   "execution_count": 4,
   "metadata": {
    "collapsed": false
   },
   "outputs": [
    {
     "name": "stdout",
     "output_type": "stream",
     "text": [
      "[(1, 14), (1, 19), (1, 20), (3, 4), (3, 6), (3, 7), (3, 14), (4, 1), (4, 18), (6, 1), (6, 2), (6, 17), (6, 21)]\n",
      "[(1, 14), (1, 19), (1, 20), (3, 4), (3, 6), (3, 14), (4, 1), (4, 18), (6, 1), (6, 2), (6, 17), (6, 21)]\n",
      "[(1, 14), (1, 19), (1, 20), (3, 4), (3, 14), (4, 1), (4, 18), (6, 1), (6, 2), (6, 17), (6, 21)]\n",
      "[(1, 19), (1, 20), (3, 4), (3, 14), (4, 1), (4, 18), (6, 1), (6, 2), (6, 17), (6, 21)]\n",
      "[(1, 19), (1, 20), (3, 4), (3, 14), (4, 18), (6, 1), (6, 2), (6, 17), (6, 21)]\n",
      "[(1, 19), (1, 20), (3, 14), (4, 18), (6, 1), (6, 2), (6, 17), (6, 21)]\n",
      "[(1, 19), (1, 20), (4, 18), (6, 1), (6, 2), (6, 17), (6, 21)]\n",
      "[(1, 19), (1, 20), (4, 18), (6, 1), (6, 2), (6, 21)]\n",
      "[(1, 19), (1, 20), (4, 18), (6, 1), (6, 2)]\n",
      "[(1, 20), (4, 18), (6, 1), (6, 2)]\n",
      "[(4, 18), (6, 1), (6, 2)]\n",
      "[(6, 1), (6, 2)]\n",
      "[(6, 1)]\n",
      "[]\n"
     ]
    },
    {
     "ename": "TypeError",
     "evalue": "'int' object is not iterable",
     "output_type": "error",
     "traceback": [
      "\u001b[0;31m---------------------------------------------------------------------------\u001b[0m",
      "\u001b[0;31mTypeError\u001b[0m                                 Traceback (most recent call last)",
      "\u001b[0;32m<ipython-input-4-a828f13b5cc2>\u001b[0m in \u001b[0;36m<module>\u001b[0;34m()\u001b[0m\n\u001b[1;32m      1\u001b[0m \u001b[0mAStar\u001b[0m \u001b[0;34m=\u001b[0m \u001b[0mAStarSearchWithMultiDots\u001b[0m\u001b[0;34m(\u001b[0m\u001b[0mtinyMaze\u001b[0m\u001b[0;34m)\u001b[0m\u001b[0;34m\u001b[0m\u001b[0m\n\u001b[0;32m----> 2\u001b[0;31m \u001b[0mpath\u001b[0m\u001b[0;34m,\u001b[0m\u001b[0mpathCost\u001b[0m \u001b[0;34m=\u001b[0m \u001b[0mAStar\u001b[0m\u001b[0;34m.\u001b[0m\u001b[0mpathFinder\u001b[0m\u001b[0;34m(\u001b[0m\u001b[0;34m)\u001b[0m\u001b[0;34m\u001b[0m\u001b[0m\n\u001b[0m\u001b[1;32m      3\u001b[0m \u001b[0;32mprint\u001b[0m \u001b[0mpath\u001b[0m\u001b[0;34m\u001b[0m\u001b[0m\n\u001b[1;32m      4\u001b[0m \u001b[0mtinyMaze\u001b[0m\u001b[0;34m.\u001b[0m\u001b[0mprintMazeWithPath\u001b[0m\u001b[0;34m(\u001b[0m\u001b[0mpath\u001b[0m\u001b[0;34m)\u001b[0m\u001b[0;34m\u001b[0m\u001b[0m\n\u001b[1;32m      5\u001b[0m \u001b[0;32mprint\u001b[0m \u001b[0;34m\"Nodes Visited: \"\u001b[0m\u001b[0;34m,\u001b[0m \u001b[0mAStar\u001b[0m\u001b[0;34m.\u001b[0m\u001b[0mnodesVisited\u001b[0m\u001b[0;34m(\u001b[0m\u001b[0;34m)\u001b[0m\u001b[0;34m\u001b[0m\u001b[0m\n",
      "\u001b[0;31mTypeError\u001b[0m: 'int' object is not iterable"
     ]
    }
   ],
   "source": [
    "AStar = AStarSearchWithMultiDots(tinyMaze)\n",
    "path,pathCost = AStar.pathFinder()\n",
    "print path\n",
    "tinyMaze.printMazeWithPath(path)\n",
    "print \"Nodes Visited: \", AStar.nodesVisited()\n",
    "print \"Path Cost\", pathCost\n",
    "\n",
    "AStar = AStarSearchWithMultiDots(smallMaze)\n",
    "path, pathCost = AStar.pathFinder()\n",
    "smallMaze.printMazeWithPath(path)\n",
    "print \"Nodes Visited: \", AStar.nodesVisited()\n",
    "print \"Path Cost\", pathCost\n",
    "\n",
    "AStar = AStarSearchWithMultiDots(mediumMaze)\n",
    "path, pathCost = AStar.pathFinder()\n",
    "mediumMaze.printMazeWithPath(path)\n",
    "print \"Nodes Visited: \", AStar.nodesVisited()\n",
    "print \"Path Cost\", pathCost"
   ]
  },
  {
   "cell_type": "code",
   "execution_count": null,
   "metadata": {
    "collapsed": true
   },
   "outputs": [],
   "source": []
  }
 ],
 "metadata": {
  "kernelspec": {
   "display_name": "Python 2",
   "language": "python",
   "name": "python2"
  },
  "language_info": {
   "codemirror_mode": {
    "name": "ipython",
    "version": 2
   },
   "file_extension": ".py",
   "mimetype": "text/x-python",
   "name": "python",
   "nbconvert_exporter": "python",
   "pygments_lexer": "ipython2",
   "version": "2.7.6"
  }
 },
 "nbformat": 4,
 "nbformat_minor": 0
}
