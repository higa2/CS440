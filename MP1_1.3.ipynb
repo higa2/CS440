{
 "cells": [
  {
   "cell_type": "code",
   "execution_count": 1,
   "metadata": {
    "collapsed": true
   },
   "outputs": [],
   "source": [
    "# CS440 MP1 Part 1.3"
   ]
  },
  {
   "cell_type": "code",
   "execution_count": 2,
   "metadata": {
    "collapsed": false
   },
   "outputs": [],
   "source": [
    "from collections import deque\n",
    "import Queue\n",
    "from Maze13 import *\n",
    "from MazeSearch import *"
   ]
  },
  {
   "cell_type": "code",
   "execution_count": 3,
   "metadata": {
    "collapsed": false
   },
   "outputs": [],
   "source": [
    "class AStarSearch(MazeSearch):\n",
    "    def __init__(self, maze):\n",
    "        self.frontier = {} #dictionary where keys are costs and values are a list of node positions\n",
    "        self.pathCosts = {} #dictionary where keys are costs and values are a list of path costs with key\n",
    "        self.paths = {} #dictionary where keys are costs and values are a list of paths\n",
    "        self.costs = Queue.PriorityQueue() #priority queue for cost keys \n",
    "        self.maze = maze\n",
    "        self.parent = [[(0,0) for j in range(maze.width)] for i in range(maze.height)]\n",
    "        self.numNodesVisited = 0\n",
    "        self.explored = []\n",
    "    \n",
    "    def duplicateDetection(self, node, pathCost):\n",
    "        if node in self.explored:\n",
    "            return True\n",
    "        \n",
    "        newKey = pathCost + self.heuristic(node)\n",
    "        \n",
    "        #computationally expensive! \n",
    "        for key in self.frontier:\n",
    "            if node in self.frontier[key]:\n",
    "                if key > newKey:\n",
    "                    return False\n",
    "                else:\n",
    "                    return True\n",
    "        return False\n",
    "        \n",
    "    def addNodeToFrontier(self, node, pathCost, path = ()):\n",
    "        #key is the manhattan distance heuristic + the path cost\n",
    "        key = pathCost + self.heuristic(node)\n",
    "        \n",
    "        #since python dictionaries do not allow for repeated values, the dictionary values are lists of nodes.\n",
    "        if not key in self.frontier:\n",
    "            self.frontier[key] = []\n",
    "            self.pathCosts[key] = []\n",
    "            self.paths[key] = []\n",
    "            \n",
    "        #add node, path cost, and cost function information\n",
    "        self.frontier[key].append(node)\n",
    "        self.pathCosts[key].append(pathCost)\n",
    "        self.paths[key].append(path)\n",
    "        self.costs.put(key)\n",
    "            \n",
    "    def chooseNodeFromFrontier(self):\n",
    "        key = self.costs.get()\n",
    "        node, pathCost, path = self.frontier[key].pop(), self.pathCosts[key].pop(), self.paths[key].pop()\n",
    "        if not self.frontier[key]:\n",
    "            del self.frontier[key]\n",
    "            del self.pathCosts[key]\n",
    "            del self.paths[key]\n",
    "        return node, pathCost, path\n",
    "    \n",
    "    def emptyFrontier(self):\n",
    "        return not self.frontier\n",
    "    \n",
    "    def goalState(self, node):\n",
    "        return (node[0], node[1]) == self.maze.goal\n",
    "    \n",
    "    def heuristic(self, node):\n",
    "        return abs(node[0]-self.maze.goal[0])+abs(node[1]-self.maze.goal[1])"
   ]
  },
  {
   "cell_type": "code",
   "execution_count": 4,
   "metadata": {
    "collapsed": false
   },
   "outputs": [
    {
     "name": "stdout",
     "output_type": "stream",
     "text": [
      "% % % % % % % % % % % % % % % % % % % % % %  \n",
      "%   % %                 %   %             %  \n",
      "%         % % % % % %   %   % % % % % %   %  \n",
      "% % % % % %           . . . %             %  \n",
      "%         %   % % % % % % . % %   % % % % %  \n",
      "%   % % % %   % g G g g g g g g g %       %  \n",
      "%                 % % % . % % %       %   %  \n",
      "% % % % % % % % % % . . .   % % % % % %   %  \n",
      "% . . . . . . . . . . % %                 %  \n",
      "% % % % % % % % % % % % % % % % % % % % % P  \n",
      "Nodes Visited:  62\n",
      "Path Cost 19\n",
      "% % % % % % % % % % % % % % %  \n",
      "% .             %           %  \n",
      "% . % % % %   % % %   %     %  \n",
      "% . %       %   %       %   %  \n",
      "% . . . % %   % %   % %     %  \n",
      "%   % . . . . .     %   %   %  \n",
      "% %   %   % % . % % % %     %  \n",
      "%   % g G g g g g g g g %   %  \n",
      "%       % % % . %   % % %   %  \n",
      "%   %       % . %           %  \n",
      "%   % % %     . . . % %   % %  \n",
      "%       %   %   % . % . . . %  \n",
      "% % % % %     % % . . . % . %  \n",
      "%           %       %   % . %  \n",
      "% % % % % % % % % % % % % % P  \n",
      "Nodes Visited:  41\n",
      "Path Cost 26\n",
      "% % % % % % % % % % % % % % % % % % % % % % % % % % % % % % % % % % % % %  \n",
      "% . %           %   %       %   %       %                               %  \n",
      "% . . . % %   % %     %   %     %   %     %   %   %   % %   %   % %   % %  \n",
      "%   % . %   %       %       %       %   %           %       %           %  \n",
      "%     .         % %   %   % % % %       % %   %   % % %   %     % %   % %  \n",
      "%   % . %   %   %                   %                       %       %   %  \n",
      "%   % .           %   %   % %   % % % %   % %   %   % %   %   %   %     %  \n",
      "%     . %   %   %                   %               %               %   %  \n",
      "% % % . % %   %   %   %   %   % % %     %   %   % %     % %   %   %   % %  \n",
      "%     . . . . .             %       %   %   %       %   %   %           %  \n",
      "%   % %   % % . % % %   %       %               % %             % %   % %  \n",
      "%             .             %       %   %   %       %   %   %   %       %  \n",
      "%   % % %   % . % % % %   %   %   % %   %   %   % % % %         %   %   %  \n",
      "%       %     . %       %       %               %   %   %   %   %       %  \n",
      "% %   %   % % . . . %   %   %       %   % %   % %   % %     %     %   % %  \n",
      "%   %       %   % .             %       %               %       %       %  \n",
      "%   %   %   %     . % %   % %   % % % %     %   %   % % %   %       %   %  \n",
      "%               % . .               %   %           %   %       %       %  \n",
      "% %   %   % %     % . % %   %   %     %   %   % %         % % %   %   % %  \n",
      "%       %           . .             %   %   %   %   %   %               %  \n",
      "%   %     %   %   % % . %   %   %   %                   % %   % % %   % %  \n",
      "%       %   %       % g g g G g g g %   %   %   %   %   %       %       %  \n",
      "%   % %     % % %     % . % %   % %         %   % %   %     % %   % %   %  \n",
      "%       %       %   %   .   %       %   %               %       %       %  \n",
      "% %   %   %   % %   % % . %   % %           %   % %   %   % %     %   % %  \n",
      "%   %       %           . . . . . . %   %           %           %       %  \n",
      "%       %       % %   % % %   % % . %       % %   % %   %   %   %   %   %  \n",
      "%   %       %           %   %   % .     %                       %   %   %  \n",
      "%       %     %   % %   %     % % . %   %   %   % %   % % %   % %     % %  \n",
      "%   %   %   %   %   %   %   %     . . . . . %   % . . . %   %   %   %   %  \n",
      "%   %       %             %   %   %   % % . . . . . % . . . . . %   % % %  \n",
      "%       %       %   %   %       %       %   %   %   %   %   % . . . . . %  \n",
      "% % %   % %   %   %         %       %     %   %     % %   %   % % % % . %  \n",
      "%   %               %   %       %   %   %       %   %               % . %  \n",
      "%   %   %   %   %         %   % %   %   %   %     %   % %   %   %     . %  \n",
      "%                   %   %       %               %           %       % . %  \n",
      "% % % % % % % % % % % % % % % % % % % % % % % % % % % % % % % % % % % % P  \n",
      "Nodes Visited:  180\n",
      "Path Cost 70\n"
     ]
    }
   ],
   "source": [
    "smallGhost = MazeWithGhost(\"http://web.engr.illinois.edu/~slazebni/fall15/assignment1/smallGhost.txt\")\n",
    "mediumGhost = MazeWithGhost(\"http://web.engr.illinois.edu/~slazebni/fall15/assignment1/mediumGhost.txt\")\n",
    "bigGhost = MazeWithGhost(\"http://web.engr.illinois.edu/~slazebni/fall15/assignment1/bigGhost.txt\")\n",
    "\n",
    "AStar = AStarSearch(smallGhost)\n",
    "path, pathCost = AStar.pathFinder()\n",
    "smallGhost.changeMazeWithPath(path)\n",
    "smallGhost.printMaze()\n",
    "print \"Nodes Visited: \", AStar.nodesVisited()\n",
    "print \"Path Cost\", pathCost\n",
    "\n",
    "AStar = AStarSearch(mediumGhost)\n",
    "path, pathCost = AStar.pathFinder()\n",
    "mediumGhost.changeMazeWithPath(path)\n",
    "mediumGhost.printMaze()\n",
    "print \"Nodes Visited: \", AStar.nodesVisited()\n",
    "print \"Path Cost\", pathCost\n",
    "\n",
    "AStar = AStarSearch(bigGhost)\n",
    "path, pathCost = AStar.pathFinder()\n",
    "bigGhost.changeMazeWithPath(path)\n",
    "bigGhost.printMaze()\n",
    "print \"Nodes Visited: \", AStar.nodesVisited()\n",
    "print \"Path Cost\", pathCost"
   ]
  },
  {
   "cell_type": "code",
   "execution_count": null,
   "metadata": {
    "collapsed": true
   },
   "outputs": [],
   "source": []
  }
 ],
 "metadata": {
  "kernelspec": {
   "display_name": "Python 2",
   "language": "python",
   "name": "python2"
  },
  "language_info": {
   "codemirror_mode": {
    "name": "ipython",
    "version": 2
   },
   "file_extension": ".py",
   "mimetype": "text/x-python",
   "name": "python",
   "nbconvert_exporter": "python",
   "pygments_lexer": "ipython2",
   "version": "2.7.6"
  }
 },
 "nbformat": 4,
 "nbformat_minor": 0
}
