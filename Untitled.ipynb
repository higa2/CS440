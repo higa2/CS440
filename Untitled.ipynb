{
 "cells": [
  {
   "cell_type": "code",
   "execution_count": null,
   "metadata": {
    "collapsed": true
   },
   "outputs": [],
   "source": [
    "# CS440 MP1 Part 1.3"
   ]
  },
  {
   "cell_type": "code",
   "execution_count": null,
   "metadata": {
    "collapsed": true
   },
   "outputs": [],
   "source": [
    "from collections import deque\n",
    "import Queue\n",
    "from Maze import *\n",
    "from MazeSearch import *"
   ]
  },
  {
   "cell_type": "code",
   "execution_count": null,
   "metadata": {
    "collapsed": true
   },
   "outputs": [],
   "source": [
    "medMaze = Maze(\"http://slazebni.cs.illinois.edu/fall15/assignment1/mediumMaze.txt\")\n",
    "bigMaze = Maze(\"http://slazebni.cs.illinois.edu/fall15/assignment1/bigMaze.txt\")\n",
    "openMaze = Maze(\"http://slazebni.cs.illinois.edu/fall15/assignment1/openMaze.txt\")\n",
    "\n",
    "AStar = AStarSearch(medMaze)\n",
    "path, pathCost = AStar.pathFinder()\n",
    "medMaze.changeMazeWithPath(path)\n",
    "medMaze.printMaze()\n",
    "print \"Nodes Visited: \", AStar.nodesVisited()\n",
    "print \"Path Cost\", pathCost\n",
    "\n",
    "AStar = AStarSearch(bigMaze)\n",
    "path, pathCost = AStar.pathFinder()\n",
    "bigMaze.changeMazeWithPath(path)\n",
    "bigMaze.printMaze()\n",
    "print \"Nodes Visited: \", AStar.nodesVisited()\n",
    "print \"Path Cost\", pathCost\n",
    "\n",
    "AStar = AStarSearch(openMaze)\n",
    "path, pathCost = AStar.pathFinder()\n",
    "openMaze.changeMazeWithPath(path)\n",
    "openMaze.printMaze()\n",
    "print \"Nodes Visited: \", AStar.nodesVisited()\n",
    "print \"Path Cost\", pathCost"
   ]
  },
  {
   "cell_type": "code",
   "execution_count": null,
   "metadata": {
    "collapsed": true
   },
   "outputs": [],
   "source": [
    "class AStarSearch(MazeSearch):\n",
    "    def __init__(self, maze):\n",
    "        self.frontier = {} #dictionary where keys are costs and values are a list of node positions\n",
    "        self.pathCosts = {} #dictionary where keys are costs and values are a list of path costs with key\n",
    "        self.costs = Queue.PriorityQueue() #priority queue for cost keys \n",
    "        self.maze = maze\n",
    "        self.parent = [[(0,0) for j in range(maze.width)] for i in range(maze.height)]\n",
    "        self.numNodesVisited = 0\n",
    "        self.explored = []\n",
    "    \n",
    "    def duplicateDetection(self, node, pathCost):\n",
    "        if node in self.explored:\n",
    "            return True\n",
    "        \n",
    "        newKey = pathCost + self.heuristic(node)\n",
    "        \n",
    "        #computationally expensive! \n",
    "        for key in self.frontier:\n",
    "            if node in self.frontier[key]:\n",
    "                if key > newKey:\n",
    "                    return False\n",
    "                else:\n",
    "                    return True\n",
    "        return False\n",
    "        \n",
    "    def addNodeToFrontier(self, node, pathCost):\n",
    "        #key is the manhattan distance heuristic + the path cost\n",
    "        key = pathCost + self.heuristic(node)\n",
    "        \n",
    "        #since python dictionaries do not allow for repeated values, the dictionary values are lists of nodes.\n",
    "        if not key in self.frontier:\n",
    "            self.frontier[key] = []\n",
    "            self.pathCosts[key] = []\n",
    "            \n",
    "        #add node, path cost, and cost function information\n",
    "        self.frontier[key].append(node)\n",
    "        self.pathCosts[key].append(pathCost)\n",
    "        self.costs.put(key)\n",
    "            \n",
    "    def chooseNodeFromFrontier(self):\n",
    "        key = self.costs.get()\n",
    "        node, pathCost = self.frontier[key].pop(), self.pathCosts[key].pop()\n",
    "        if not self.frontier[key]:\n",
    "            del self.frontier[key]\n",
    "            del self.pathCosts[key]\n",
    "        return node, pathCost\n",
    "    \n",
    "    def emptyFrontier(self):\n",
    "        return not self.frontier\n",
    "    \n",
    "    def goalState(self, node):\n",
    "        return node == self.maze.goal\n",
    "    \n",
    "    def heuristic(self, node):\n",
    "        return abs(node[0]-self.maze.goal[0])+abs(node[1]-self.maze.goal[1])"
   ]
  }
 ],
 "metadata": {
  "kernelspec": {
   "display_name": "Python 2",
   "language": "python",
   "name": "python2"
  },
  "language_info": {
   "codemirror_mode": {
    "name": "ipython",
    "version": 2
   },
   "file_extension": ".py",
   "mimetype": "text/x-python",
   "name": "python",
   "nbconvert_exporter": "python",
   "pygments_lexer": "ipython2",
   "version": "2.7.10"
  }
 },
 "nbformat": 4,
 "nbformat_minor": 0
}
