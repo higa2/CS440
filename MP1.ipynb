{
 "cells": [
  {
   "cell_type": "markdown",
   "metadata": {},
   "source": [
    "# CS440 MP1"
   ]
  },
  {
   "cell_type": "code",
   "execution_count": 168,
   "metadata": {
    "collapsed": true
   },
   "outputs": [],
   "source": [
    "import urllib2\n",
    "from collections import deque"
   ]
  },
  {
   "cell_type": "markdown",
   "metadata": {},
   "source": [
    "## Maze Class and Maze Solver Class"
   ]
  },
  {
   "cell_type": "code",
   "execution_count": 169,
   "metadata": {
    "collapsed": false
   },
   "outputs": [],
   "source": [
    "class Maze:\n",
    "    '''\n",
    "    Creates a data structure to represent the maze problem.\n",
    "    '''\n",
    "    def __init__(self, txtFile):\n",
    "        i = 0 #row index\n",
    "        data = urllib2.urlopen(txtFile)\n",
    "        self.maze = []\n",
    "        self.goals = []\n",
    "        self.explored = []\n",
    "        for line in data:\n",
    "            j = 0 #column index\n",
    "            self.maze.append([])\n",
    "            for char in line:\n",
    "                #find goal state or goal states\n",
    "                if char == '.':\n",
    "                    self.goals.append((i,j))\n",
    "                #find initial state\n",
    "                elif char == 'P':\n",
    "                    self.initialState = (i,j)\n",
    "                if char == 'P' or char == '.' or char == '%' or char == ' ': \n",
    "                    self.maze[i].append(char)\n",
    "                    j+=1\n",
    "            i+=1\n",
    "        self.height = i\n",
    "        self.width = j\n",
    "        \n",
    "    def findChildren(self, node):\n",
    "        children = []\n",
    "        x = node[1]\n",
    "        y = node[0]\n",
    "        if x-1 >= 0:\n",
    "            if self.maze[y][x-1] != '%':\n",
    "                children.append((y,x-1))\n",
    "                \n",
    "        if y-1 >= 0:\n",
    "            if self.maze[y-1][x] != '%':\n",
    "                children.append((y-1,x))\n",
    "            \n",
    "        if x+1 < self.width:\n",
    "            if self.maze[y][x+1] != '%':\n",
    "                children.append((y,x+1))\n",
    "\n",
    "        if y+1 < self.height:\n",
    "            if self.maze[y+1][x] != '%':\n",
    "                children.append((y+1,x))\n",
    "        return children\n",
    "    \n",
    "    def printMazeWithPath(self, path):\n",
    "        for row in range(self.height):\n",
    "            for col in range(self.width):\n",
    "                if (row,col) in path:\n",
    "                    print \".\",\n",
    "                else:\n",
    "                    print self.maze[row][col],\n",
    "            print \" \"\n",
    "        \n",
    "\n",
    "class MazeSearch:\n",
    "    '''\n",
    "    Base class outlining functions that the inherited search classes should contain.\n",
    "    Should not be created or implemented.\n",
    "    '''\n",
    "    def __init__(self, maze):\n",
    "        raise NotImplementedError\n",
    "    \n",
    "    def pathFinder(self):\n",
    "        self.addNodeToFrontier(self.maze.initialState) \n",
    "        while not self.emptyFrontier() :\n",
    "            self.numNodesVisited+=1\n",
    "            node = self.chooseNodeFromFrontier()\n",
    "            if self.goalState(node): #goal state is reached\n",
    "                return self.backTrace(node)\n",
    "            for child in self.maze.findChildren(node):\n",
    "                if not self.duplicateDetection(child):\n",
    "                    self.addNodeToFrontier(child)\n",
    "                    self.parent[child[0]][child[1]] = node\n",
    "                    self.explored.append(node)\n",
    "        return -1\n",
    "    \n",
    "    def backTrace(self, node):\n",
    "        path = []\n",
    "        curNode = node\n",
    "        while curNode != self.maze.initialState:\n",
    "            path.append(curNode)\n",
    "            parent = self.parent[curNode[0]][curNode[1]]\n",
    "            curNode = parent\n",
    "        return path\n",
    "    \n",
    "    def duplicateDetection(self, node):\n",
    "        '''\n",
    "        Implement strategy for detecting duplicate states.\n",
    "        '''\n",
    "        raise NotImplementedError\n",
    "    \n",
    "    def addNodeToFrontier(self, node):\n",
    "        '''\n",
    "        Adds node to the frontier. The data structure representing a frontier might differ\n",
    "        for different search strategies.\n",
    "        input: void\n",
    "        return: void\n",
    "        '''\n",
    "        raise NotImplementedError\n",
    "        \n",
    "    def chooseNodeFromFrontier(self):\n",
    "        raise NotImplementedError\n",
    "        \n",
    "    def emptyFrontier(self):\n",
    "        raise NotImplementedError\n",
    "        \n",
    "    def goalState(self, node):\n",
    "        raise NotImplementedError"
   ]
  },
  {
   "cell_type": "markdown",
   "metadata": {},
   "source": [
    "##Depth First Search "
   ]
  },
  {
   "cell_type": "code",
   "execution_count": 167,
   "metadata": {
    "collapsed": false
   },
   "outputs": [],
   "source": [
    "class DFSMazeSearch(MazeSearch):\n",
    "    def __init__(self, maze):\n",
    "        self.frontier = []\n",
    "        self.maze = maze\n",
    "        self.parent = [[(0,0) for j in range(maze.width)] for i in range(maze.height)]\n",
    "        self.numNodesVisited = 0\n",
    "        self.explored = []\n",
    "    \n",
    "    def duplicateDetection(self, node):\n",
    "        if node in self.explored:\n",
    "            return True\n",
    "        #if node in self.frontier:\n",
    "        \n",
    "    def addNodeToFrontier(self, node):\n",
    "        self.frontier.append(node)\n",
    "        \n",
    "    def chooseNodeFromFrontier(self):\n",
    "        return self.frontier.pop()\n",
    "    \n",
    "    def emptyFrontier(self):\n",
    "        return not self.frontier\n",
    "    \n",
    "    def goalState(self, node):\n",
    "        return node in self.maze.goals"
   ]
  },
  {
   "cell_type": "code",
   "execution_count": 170,
   "metadata": {
    "collapsed": false
   },
   "outputs": [
    {
     "ename": "URLError",
     "evalue": "<urlopen error [Errno 8] nodename nor servname provided, or not known>",
     "output_type": "error",
     "traceback": [
      "\u001b[0;31m---------------------------------------------------------------------------\u001b[0m",
      "\u001b[0;31mURLError\u001b[0m                                  Traceback (most recent call last)",
      "\u001b[0;32m<ipython-input-170-f0e5b99d8f17>\u001b[0m in \u001b[0;36m<module>\u001b[0;34m()\u001b[0m\n\u001b[0;32m----> 1\u001b[0;31m \u001b[0mmedMaze\u001b[0m \u001b[0;34m=\u001b[0m \u001b[0mMaze\u001b[0m\u001b[0;34m(\u001b[0m\u001b[0;34m\"http://slazebni.cs.illinois.edu/fall15/assignment1/mediumMaze.txt\"\u001b[0m\u001b[0;34m)\u001b[0m\u001b[0;34m\u001b[0m\u001b[0m\n\u001b[0m\u001b[1;32m      2\u001b[0m \u001b[0mDFS\u001b[0m \u001b[0;34m=\u001b[0m \u001b[0mDFSMazeSearch\u001b[0m\u001b[0;34m(\u001b[0m\u001b[0mmedMaze\u001b[0m\u001b[0;34m)\u001b[0m\u001b[0;34m\u001b[0m\u001b[0m\n\u001b[1;32m      3\u001b[0m \u001b[0mpath\u001b[0m \u001b[0;34m=\u001b[0m \u001b[0mDFS\u001b[0m\u001b[0;34m.\u001b[0m\u001b[0mpathFinder\u001b[0m\u001b[0;34m(\u001b[0m\u001b[0;34m)\u001b[0m\u001b[0;34m\u001b[0m\u001b[0m\n\u001b[1;32m      4\u001b[0m \u001b[0mmedMaze\u001b[0m\u001b[0;34m.\u001b[0m\u001b[0mprintMazeWithPath\u001b[0m\u001b[0;34m(\u001b[0m\u001b[0mpath\u001b[0m\u001b[0;34m)\u001b[0m\u001b[0;34m\u001b[0m\u001b[0m\n",
      "\u001b[0;32m<ipython-input-169-a398f3930e87>\u001b[0m in \u001b[0;36m__init__\u001b[0;34m(self, txtFile)\u001b[0m\n\u001b[1;32m      5\u001b[0m     \u001b[0;32mdef\u001b[0m \u001b[0m__init__\u001b[0m\u001b[0;34m(\u001b[0m\u001b[0mself\u001b[0m\u001b[0;34m,\u001b[0m \u001b[0mtxtFile\u001b[0m\u001b[0;34m)\u001b[0m\u001b[0;34m:\u001b[0m\u001b[0;34m\u001b[0m\u001b[0m\n\u001b[1;32m      6\u001b[0m         \u001b[0mi\u001b[0m \u001b[0;34m=\u001b[0m \u001b[0;36m0\u001b[0m \u001b[0;31m#row index\u001b[0m\u001b[0;34m\u001b[0m\u001b[0m\n\u001b[0;32m----> 7\u001b[0;31m         \u001b[0mdata\u001b[0m \u001b[0;34m=\u001b[0m \u001b[0murllib2\u001b[0m\u001b[0;34m.\u001b[0m\u001b[0murlopen\u001b[0m\u001b[0;34m(\u001b[0m\u001b[0mtxtFile\u001b[0m\u001b[0;34m)\u001b[0m\u001b[0;34m\u001b[0m\u001b[0m\n\u001b[0m\u001b[1;32m      8\u001b[0m         \u001b[0mself\u001b[0m\u001b[0;34m.\u001b[0m\u001b[0mmaze\u001b[0m \u001b[0;34m=\u001b[0m \u001b[0;34m[\u001b[0m\u001b[0;34m]\u001b[0m\u001b[0;34m\u001b[0m\u001b[0m\n\u001b[1;32m      9\u001b[0m         \u001b[0mself\u001b[0m\u001b[0;34m.\u001b[0m\u001b[0mgoals\u001b[0m \u001b[0;34m=\u001b[0m \u001b[0;34m[\u001b[0m\u001b[0;34m]\u001b[0m\u001b[0;34m\u001b[0m\u001b[0m\n",
      "\u001b[0;32m/Applications/Canopy.app/appdata/canopy-1.4.0.1938.macosx-x86/Canopy.app/Contents/lib/python2.7/urllib2.pyc\u001b[0m in \u001b[0;36murlopen\u001b[0;34m(url, data, timeout)\u001b[0m\n\u001b[1;32m    125\u001b[0m     \u001b[0;32mif\u001b[0m \u001b[0m_opener\u001b[0m \u001b[0;32mis\u001b[0m \u001b[0mNone\u001b[0m\u001b[0;34m:\u001b[0m\u001b[0;34m\u001b[0m\u001b[0m\n\u001b[1;32m    126\u001b[0m         \u001b[0m_opener\u001b[0m \u001b[0;34m=\u001b[0m \u001b[0mbuild_opener\u001b[0m\u001b[0;34m(\u001b[0m\u001b[0;34m)\u001b[0m\u001b[0;34m\u001b[0m\u001b[0m\n\u001b[0;32m--> 127\u001b[0;31m     \u001b[0;32mreturn\u001b[0m \u001b[0m_opener\u001b[0m\u001b[0;34m.\u001b[0m\u001b[0mopen\u001b[0m\u001b[0;34m(\u001b[0m\u001b[0murl\u001b[0m\u001b[0;34m,\u001b[0m \u001b[0mdata\u001b[0m\u001b[0;34m,\u001b[0m \u001b[0mtimeout\u001b[0m\u001b[0;34m)\u001b[0m\u001b[0;34m\u001b[0m\u001b[0m\n\u001b[0m\u001b[1;32m    128\u001b[0m \u001b[0;34m\u001b[0m\u001b[0m\n\u001b[1;32m    129\u001b[0m \u001b[0;32mdef\u001b[0m \u001b[0minstall_opener\u001b[0m\u001b[0;34m(\u001b[0m\u001b[0mopener\u001b[0m\u001b[0;34m)\u001b[0m\u001b[0;34m:\u001b[0m\u001b[0;34m\u001b[0m\u001b[0m\n",
      "\u001b[0;32m/Applications/Canopy.app/appdata/canopy-1.4.0.1938.macosx-x86/Canopy.app/Contents/lib/python2.7/urllib2.pyc\u001b[0m in \u001b[0;36mopen\u001b[0;34m(self, fullurl, data, timeout)\u001b[0m\n\u001b[1;32m    402\u001b[0m             \u001b[0mreq\u001b[0m \u001b[0;34m=\u001b[0m \u001b[0mmeth\u001b[0m\u001b[0;34m(\u001b[0m\u001b[0mreq\u001b[0m\u001b[0;34m)\u001b[0m\u001b[0;34m\u001b[0m\u001b[0m\n\u001b[1;32m    403\u001b[0m \u001b[0;34m\u001b[0m\u001b[0m\n\u001b[0;32m--> 404\u001b[0;31m         \u001b[0mresponse\u001b[0m \u001b[0;34m=\u001b[0m \u001b[0mself\u001b[0m\u001b[0;34m.\u001b[0m\u001b[0m_open\u001b[0m\u001b[0;34m(\u001b[0m\u001b[0mreq\u001b[0m\u001b[0;34m,\u001b[0m \u001b[0mdata\u001b[0m\u001b[0;34m)\u001b[0m\u001b[0;34m\u001b[0m\u001b[0m\n\u001b[0m\u001b[1;32m    405\u001b[0m \u001b[0;34m\u001b[0m\u001b[0m\n\u001b[1;32m    406\u001b[0m         \u001b[0;31m# post-process response\u001b[0m\u001b[0;34m\u001b[0m\u001b[0;34m\u001b[0m\u001b[0m\n",
      "\u001b[0;32m/Applications/Canopy.app/appdata/canopy-1.4.0.1938.macosx-x86/Canopy.app/Contents/lib/python2.7/urllib2.pyc\u001b[0m in \u001b[0;36m_open\u001b[0;34m(self, req, data)\u001b[0m\n\u001b[1;32m    420\u001b[0m         \u001b[0mprotocol\u001b[0m \u001b[0;34m=\u001b[0m \u001b[0mreq\u001b[0m\u001b[0;34m.\u001b[0m\u001b[0mget_type\u001b[0m\u001b[0;34m(\u001b[0m\u001b[0;34m)\u001b[0m\u001b[0;34m\u001b[0m\u001b[0m\n\u001b[1;32m    421\u001b[0m         result = self._call_chain(self.handle_open, protocol, protocol +\n\u001b[0;32m--> 422\u001b[0;31m                                   '_open', req)\n\u001b[0m\u001b[1;32m    423\u001b[0m         \u001b[0;32mif\u001b[0m \u001b[0mresult\u001b[0m\u001b[0;34m:\u001b[0m\u001b[0;34m\u001b[0m\u001b[0m\n\u001b[1;32m    424\u001b[0m             \u001b[0;32mreturn\u001b[0m \u001b[0mresult\u001b[0m\u001b[0;34m\u001b[0m\u001b[0m\n",
      "\u001b[0;32m/Applications/Canopy.app/appdata/canopy-1.4.0.1938.macosx-x86/Canopy.app/Contents/lib/python2.7/urllib2.pyc\u001b[0m in \u001b[0;36m_call_chain\u001b[0;34m(self, chain, kind, meth_name, *args)\u001b[0m\n\u001b[1;32m    380\u001b[0m             \u001b[0mfunc\u001b[0m \u001b[0;34m=\u001b[0m \u001b[0mgetattr\u001b[0m\u001b[0;34m(\u001b[0m\u001b[0mhandler\u001b[0m\u001b[0;34m,\u001b[0m \u001b[0mmeth_name\u001b[0m\u001b[0;34m)\u001b[0m\u001b[0;34m\u001b[0m\u001b[0m\n\u001b[1;32m    381\u001b[0m \u001b[0;34m\u001b[0m\u001b[0m\n\u001b[0;32m--> 382\u001b[0;31m             \u001b[0mresult\u001b[0m \u001b[0;34m=\u001b[0m \u001b[0mfunc\u001b[0m\u001b[0;34m(\u001b[0m\u001b[0;34m*\u001b[0m\u001b[0margs\u001b[0m\u001b[0;34m)\u001b[0m\u001b[0;34m\u001b[0m\u001b[0m\n\u001b[0m\u001b[1;32m    383\u001b[0m             \u001b[0;32mif\u001b[0m \u001b[0mresult\u001b[0m \u001b[0;32mis\u001b[0m \u001b[0;32mnot\u001b[0m \u001b[0mNone\u001b[0m\u001b[0;34m:\u001b[0m\u001b[0;34m\u001b[0m\u001b[0m\n\u001b[1;32m    384\u001b[0m                 \u001b[0;32mreturn\u001b[0m \u001b[0mresult\u001b[0m\u001b[0;34m\u001b[0m\u001b[0m\n",
      "\u001b[0;32m/Applications/Canopy.app/appdata/canopy-1.4.0.1938.macosx-x86/Canopy.app/Contents/lib/python2.7/urllib2.pyc\u001b[0m in \u001b[0;36mhttp_open\u001b[0;34m(self, req)\u001b[0m\n\u001b[1;32m   1212\u001b[0m \u001b[0;34m\u001b[0m\u001b[0m\n\u001b[1;32m   1213\u001b[0m     \u001b[0;32mdef\u001b[0m \u001b[0mhttp_open\u001b[0m\u001b[0;34m(\u001b[0m\u001b[0mself\u001b[0m\u001b[0;34m,\u001b[0m \u001b[0mreq\u001b[0m\u001b[0;34m)\u001b[0m\u001b[0;34m:\u001b[0m\u001b[0;34m\u001b[0m\u001b[0m\n\u001b[0;32m-> 1214\u001b[0;31m         \u001b[0;32mreturn\u001b[0m \u001b[0mself\u001b[0m\u001b[0;34m.\u001b[0m\u001b[0mdo_open\u001b[0m\u001b[0;34m(\u001b[0m\u001b[0mhttplib\u001b[0m\u001b[0;34m.\u001b[0m\u001b[0mHTTPConnection\u001b[0m\u001b[0;34m,\u001b[0m \u001b[0mreq\u001b[0m\u001b[0;34m)\u001b[0m\u001b[0;34m\u001b[0m\u001b[0m\n\u001b[0m\u001b[1;32m   1215\u001b[0m \u001b[0;34m\u001b[0m\u001b[0m\n\u001b[1;32m   1216\u001b[0m     \u001b[0mhttp_request\u001b[0m \u001b[0;34m=\u001b[0m \u001b[0mAbstractHTTPHandler\u001b[0m\u001b[0;34m.\u001b[0m\u001b[0mdo_request_\u001b[0m\u001b[0;34m\u001b[0m\u001b[0m\n",
      "\u001b[0;32m/Applications/Canopy.app/appdata/canopy-1.4.0.1938.macosx-x86/Canopy.app/Contents/lib/python2.7/urllib2.pyc\u001b[0m in \u001b[0;36mdo_open\u001b[0;34m(self, http_class, req)\u001b[0m\n\u001b[1;32m   1182\u001b[0m         \u001b[0;32mexcept\u001b[0m \u001b[0msocket\u001b[0m\u001b[0;34m.\u001b[0m\u001b[0merror\u001b[0m\u001b[0;34m,\u001b[0m \u001b[0merr\u001b[0m\u001b[0;34m:\u001b[0m \u001b[0;31m# XXX what error?\u001b[0m\u001b[0;34m\u001b[0m\u001b[0m\n\u001b[1;32m   1183\u001b[0m             \u001b[0mh\u001b[0m\u001b[0;34m.\u001b[0m\u001b[0mclose\u001b[0m\u001b[0;34m(\u001b[0m\u001b[0;34m)\u001b[0m\u001b[0;34m\u001b[0m\u001b[0m\n\u001b[0;32m-> 1184\u001b[0;31m             \u001b[0;32mraise\u001b[0m \u001b[0mURLError\u001b[0m\u001b[0;34m(\u001b[0m\u001b[0merr\u001b[0m\u001b[0;34m)\u001b[0m\u001b[0;34m\u001b[0m\u001b[0m\n\u001b[0m\u001b[1;32m   1185\u001b[0m         \u001b[0;32melse\u001b[0m\u001b[0;34m:\u001b[0m\u001b[0;34m\u001b[0m\u001b[0m\n\u001b[1;32m   1186\u001b[0m             \u001b[0;32mtry\u001b[0m\u001b[0;34m:\u001b[0m\u001b[0;34m\u001b[0m\u001b[0m\n",
      "\u001b[0;31mURLError\u001b[0m: <urlopen error [Errno 8] nodename nor servname provided, or not known>"
     ]
    }
   ],
   "source": [
    "medMaze = Maze(\"http://slazebni.cs.illinois.edu/fall15/assignment1/mediumMaze.txt\")\n",
    "DFS = DFSMazeSearch(medMaze)\n",
    "path = DFS.pathFinder()\n",
    "medMaze.printMazeWithPath(path)"
   ]
  },
  {
   "cell_type": "markdown",
   "metadata": {},
   "source": [
    "##Breadth First Search"
   ]
  },
  {
   "cell_type": "code",
   "execution_count": 165,
   "metadata": {
    "collapsed": true
   },
   "outputs": [],
   "source": [
    "class BFSMazeSearch(MazeSearch):\n",
    "    def __init__(self, maze):\n",
    "        self.frontier = deque([])\n",
    "        self.maze = maze\n",
    "        self.parent = [[(0,0) for j in range(maze.width)] for i in range(maze.height)]\n",
    "        self.numNodesVisited = 0\n",
    "        self.explored = []\n",
    "    \n",
    "    def duplicateDetection(self, node):\n",
    "        if node in self.explored:\n",
    "            return True\n",
    "        if node in self.frontier:\n",
    "            return True\n",
    "        \n",
    "    def addNodeToFrontier(self, node):\n",
    "        self.frontier.append(node)\n",
    "        \n",
    "    def chooseNodeFromFrontier(self):\n",
    "        return self.frontier.popleft()\n",
    "    \n",
    "    def emptyFrontier(self):\n",
    "        return not self.frontier\n",
    "    \n",
    "    def goalState(self, node):\n",
    "        return node in self.maze.goals"
   ]
  },
  {
   "cell_type": "code",
   "execution_count": 166,
   "metadata": {
    "collapsed": false
   },
   "outputs": [
    {
     "name": "stdout",
     "output_type": "stream",
     "text": [
      "% % % % % % % % % % % % % % % % % % % % % % %  \n",
      "% . %       %       %       %       %   %   %  \n",
      "% .     %       % %   %   % % % %   % %     %  \n",
      "% . %       %   %   %   %               %   %  \n",
      "% . % %   % % %           % %   % %   % % % %  \n",
      "% . %   %       %   %   %   %   %           %  \n",
      "% . % % %   %   % % %     %         % %   % %  \n",
      "% . %   % . . .         %   %   %       %   %  \n",
      "% . . . . . % . %   % % %       %   %       %  \n",
      "%   %   %   % . . . . . %   %   %       %   %  \n",
      "%       % % %   % % % . %   %       %   % % %  \n",
      "%   %           %   % . . . . . %           %  \n",
      "% %   %   % %         % % % % . %   % %   % %  \n",
      "%   %   %       %   %         . . .     %   %  \n",
      "%       % %   % %   % %   % % % % . % %     %  \n",
      "%   %   %           %           % . %   %   %  \n",
      "% % % %   % %   % %     % %   %   .   %   % %  \n",
      "%   %   %           %       %   % . %   %   %  \n",
      "%   % %   %   % % % % %   %       . . .     %  \n",
      "%   %               %       %   %   % . %   %  \n",
      "%       % %   % %   % % %   %       % . % % %  \n",
      "%   %   %       %               %   % . . P %  \n",
      "% % % % % % % % % % % % % % % % % % % % % % %  \n"
     ]
    }
   ],
   "source": [
    "medMaze = Maze(\"http://slazebni.cs.illinois.edu/fall15/assignment1/mediumMaze.txt\")\n",
    "BFS = BFSMazeSearch(medMaze)\n",
    "path = BFS.pathFinder()\n",
    "medMaze.printMazeWithPath(path)"
   ]
  },
  {
   "cell_type": "code",
   "execution_count": null,
   "metadata": {
    "collapsed": true
   },
   "outputs": [],
   "source": [
    "class GBFSMazeSearch(MazeSearch):\n",
    "    def __init__(self, maze):\n",
    "        self.frontier = deque([])\n",
    "        self.maze = maze\n",
    "        self.parent = [[(0,0) for j in range(maze.width)] for i in range(maze.height)]\n",
    "        self.numNodesVisited = 0\n",
    "        self.explored = []\n",
    "    \n",
    "    def duplicateDetection(self, node):\n",
    "        if node in self.explored:\n",
    "            return True\n",
    "        if node in self.frontier:\n",
    "            return True\n",
    "        \n",
    "    def addNodeToFrontier(self, node):\n",
    "        self.frontier.append(node)\n",
    "        \n",
    "    def chooseNodeFromFrontier(self):\n",
    "        return self.frontier.popleft()\n",
    "    \n",
    "    def emptyFrontier(self):\n",
    "        return not self.frontier\n",
    "    \n",
    "    def goalState(self, node):\n",
    "        return node in self.maze.goals"
   ]
  }
 ],
 "metadata": {
  "kernelspec": {
   "display_name": "Python 2",
   "language": "python",
   "name": "python2"
  },
  "language_info": {
   "codemirror_mode": {
    "name": "ipython",
    "version": 2
   },
   "file_extension": ".py",
   "mimetype": "text/x-python",
   "name": "python",
   "nbconvert_exporter": "python",
   "pygments_lexer": "ipython2",
   "version": "2.7.6"
  }
 },
 "nbformat": 4,
 "nbformat_minor": 0
}
